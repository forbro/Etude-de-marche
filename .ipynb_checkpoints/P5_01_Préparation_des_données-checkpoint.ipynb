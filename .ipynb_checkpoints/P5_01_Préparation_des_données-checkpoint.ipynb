{
 "cells": [
  {
   "cell_type": "code",
   "execution_count": 2,
   "metadata": {},
   "outputs": [],
   "source": [
    "import pandas as pd\n",
    "import numpy as np\n",
    "from matplotlib import rcParams\n",
    "import plotly.express as px\n",
    "from P5_06_functions import *"
   ]
  },
  {
   "cell_type": "code",
   "execution_count": 3,
   "metadata": {},
   "outputs": [],
   "source": [
    "#Fixer les graphiques à 16,10\n",
    "rcParams['figure.figsize'] = 16, 10"
   ]
  },
  {
   "cell_type": "markdown",
   "metadata": {},
   "source": [
    "# I CONSTRUIRE L'ECHANTILLON POUR L'ANALYSE"
   ]
  },
  {
   "cell_type": "markdown",
   "metadata": {},
   "source": [
    "## Chargement des données"
   ]
  },
  {
   "cell_type": "code",
   "execution_count": 4,
   "metadata": {},
   "outputs": [],
   "source": [
    "df_p5 = pd.DataFrame(pd.read_csv('dispo_alim.csv', sep=';'))\n",
    "population = pd.DataFrame(pd.read_csv('population.csv', sep=';'))"
   ]
  },
  {
   "cell_type": "code",
   "execution_count": 5,
   "metadata": {},
   "outputs": [
    {
     "data": {
      "text/plain": [
       "Index(['Code Domaine', 'Domaine', 'Code zone (FAO)', 'Zone', 'Code Élément',\n",
       "       'Élément', 'Code Produit', 'Produit', 'Code année', 'Année', 'Unité',\n",
       "       'Valeur', 'Symbole', 'Description du Symbole', 'Numéro', 'Code-ISO'],\n",
       "      dtype='object')"
      ]
     },
     "execution_count": 5,
     "metadata": {},
     "output_type": "execute_result"
    }
   ],
   "source": [
    "df_p5.columns"
   ]
  },
  {
   "cell_type": "markdown",
   "metadata": {},
   "source": [
    "## Supprimer les colonnes inutiles"
   ]
  },
  {
   "cell_type": "code",
   "execution_count": 6,
   "metadata": {},
   "outputs": [],
   "source": [
    "df_p5 = df_p5.drop(['Code Domaine', 'Domaine', 'Code Élément', 'Code année', 'Symbole', 'Description du Symbole'], axis = 1)\n",
    "\n",
    "population = population.drop(['Code Domaine', 'Domaine', 'Code Élément', 'Élément', 'Code Produit', 'Produit', 'Code année', 'Note', 'Symbole', 'Description du Symbole','Unité'], axis = 1)"
   ]
  },
  {
   "cell_type": "markdown",
   "metadata": {},
   "source": [
    "## Renommer les colonnes"
   ]
  },
  {
   "cell_type": "code",
   "execution_count": 7,
   "metadata": {},
   "outputs": [],
   "source": [
    "population['Valeur'] = population['Valeur']*1000\n",
    "population['Valeur'] = population['Valeur'].astype(int)"
   ]
  },
  {
   "cell_type": "code",
   "execution_count": 8,
   "metadata": {},
   "outputs": [
    {
     "data": {
      "text/html": [
       "<div>\n",
       "<style scoped>\n",
       "    .dataframe tbody tr th:only-of-type {\n",
       "        vertical-align: middle;\n",
       "    }\n",
       "\n",
       "    .dataframe tbody tr th {\n",
       "        vertical-align: top;\n",
       "    }\n",
       "\n",
       "    .dataframe thead th {\n",
       "        text-align: right;\n",
       "    }\n",
       "</style>\n",
       "<table border=\"1\" class=\"dataframe\">\n",
       "  <thead>\n",
       "    <tr style=\"text-align: right;\">\n",
       "      <th></th>\n",
       "      <th>Code zone (FAO)</th>\n",
       "      <th>Zone</th>\n",
       "      <th>Année</th>\n",
       "      <th>Valeur</th>\n",
       "    </tr>\n",
       "  </thead>\n",
       "  <tbody>\n",
       "    <tr>\n",
       "      <th>0</th>\n",
       "      <td>2</td>\n",
       "      <td>Afghanistan</td>\n",
       "      <td>2017</td>\n",
       "      <td>36296113</td>\n",
       "    </tr>\n",
       "    <tr>\n",
       "      <th>1</th>\n",
       "      <td>2</td>\n",
       "      <td>Afghanistan</td>\n",
       "      <td>2018</td>\n",
       "      <td>37171921</td>\n",
       "    </tr>\n",
       "    <tr>\n",
       "      <th>2</th>\n",
       "      <td>202</td>\n",
       "      <td>Afrique du Sud</td>\n",
       "      <td>2017</td>\n",
       "      <td>57009755</td>\n",
       "    </tr>\n",
       "    <tr>\n",
       "      <th>3</th>\n",
       "      <td>202</td>\n",
       "      <td>Afrique du Sud</td>\n",
       "      <td>2018</td>\n",
       "      <td>57792518</td>\n",
       "    </tr>\n",
       "    <tr>\n",
       "      <th>4</th>\n",
       "      <td>3</td>\n",
       "      <td>Albanie</td>\n",
       "      <td>2017</td>\n",
       "      <td>2884169</td>\n",
       "    </tr>\n",
       "    <tr>\n",
       "      <th>...</th>\n",
       "      <td>...</td>\n",
       "      <td>...</td>\n",
       "      <td>...</td>\n",
       "      <td>...</td>\n",
       "    </tr>\n",
       "    <tr>\n",
       "      <th>469</th>\n",
       "      <td>249</td>\n",
       "      <td>Yémen</td>\n",
       "      <td>2018</td>\n",
       "      <td>28498682</td>\n",
       "    </tr>\n",
       "    <tr>\n",
       "      <th>470</th>\n",
       "      <td>251</td>\n",
       "      <td>Zambie</td>\n",
       "      <td>2017</td>\n",
       "      <td>16853599</td>\n",
       "    </tr>\n",
       "    <tr>\n",
       "      <th>471</th>\n",
       "      <td>251</td>\n",
       "      <td>Zambie</td>\n",
       "      <td>2018</td>\n",
       "      <td>17351708</td>\n",
       "    </tr>\n",
       "    <tr>\n",
       "      <th>472</th>\n",
       "      <td>181</td>\n",
       "      <td>Zimbabwe</td>\n",
       "      <td>2017</td>\n",
       "      <td>14236595</td>\n",
       "    </tr>\n",
       "    <tr>\n",
       "      <th>473</th>\n",
       "      <td>181</td>\n",
       "      <td>Zimbabwe</td>\n",
       "      <td>2018</td>\n",
       "      <td>14438802</td>\n",
       "    </tr>\n",
       "  </tbody>\n",
       "</table>\n",
       "<p>474 rows × 4 columns</p>\n",
       "</div>"
      ],
      "text/plain": [
       "     Code zone (FAO)            Zone  Année    Valeur\n",
       "0                  2     Afghanistan   2017  36296113\n",
       "1                  2     Afghanistan   2018  37171921\n",
       "2                202  Afrique du Sud   2017  57009755\n",
       "3                202  Afrique du Sud   2018  57792518\n",
       "4                  3         Albanie   2017   2884169\n",
       "..               ...             ...    ...       ...\n",
       "469              249           Yémen   2018  28498682\n",
       "470              251          Zambie   2017  16853599\n",
       "471              251          Zambie   2018  17351708\n",
       "472              181        Zimbabwe   2017  14236595\n",
       "473              181        Zimbabwe   2018  14438802\n",
       "\n",
       "[474 rows x 4 columns]"
      ]
     },
     "execution_count": 8,
     "metadata": {},
     "output_type": "execute_result"
    }
   ],
   "source": [
    "population"
   ]
  },
  {
   "cell_type": "code",
   "execution_count": 9,
   "metadata": {},
   "outputs": [
    {
     "data": {
      "text/plain": [
       "Index(['Code zone (FAO)', 'Zone', 'Année', 'Valeur'], dtype='object')"
      ]
     },
     "execution_count": 9,
     "metadata": {},
     "output_type": "execute_result"
    }
   ],
   "source": [
    "population.columns"
   ]
  },
  {
   "cell_type": "code",
   "execution_count": null,
   "metadata": {},
   "outputs": [],
   "source": []
  },
  {
   "cell_type": "code",
   "execution_count": 10,
   "metadata": {},
   "outputs": [
    {
     "data": {
      "text/plain": [
       "Index(['Code zone (FAO)', 'Zone', 'Élément', 'Code Produit', 'Produit',\n",
       "       'Année', 'Unité', 'Valeur', 'Numéro', 'Code-ISO'],\n",
       "      dtype='object')"
      ]
     },
     "execution_count": 10,
     "metadata": {},
     "output_type": "execute_result"
    }
   ],
   "source": [
    "df_p5.columns"
   ]
  },
  {
   "cell_type": "code",
   "execution_count": 11,
   "metadata": {},
   "outputs": [],
   "source": [
    "population = population.rename(columns={'Code zone (FAO)':'code_pays', 'Zone':'pays', 'Valeur':'habitant', 'Année':'annee'})\n",
    "df_p5 = df_p5.rename(columns={'Code zone (FAO)':'code_pays', 'Zone':'pays', 'Valeur':'quantite', 'Produit':'produit', 'Unité':'unite', \n",
    "                                    'Année':'annee','Code Produit':'code_produit', 'Élément':'element','Code-ISO':'code','Numéro':'num'})"
   ]
  },
  {
   "cell_type": "markdown",
   "metadata": {},
   "source": [
    "## Jointures"
   ]
  },
  {
   "cell_type": "code",
   "execution_count": 12,
   "metadata": {},
   "outputs": [],
   "source": [
    "# Jointure entre dispo_alim et Population\n",
    "df_p5 = pd.merge(df_p5, population, on = ['code_pays','pays','annee'])"
   ]
  },
  {
   "cell_type": "code",
   "execution_count": 13,
   "metadata": {},
   "outputs": [],
   "source": [
    "_2017 = population.loc[population['annee'] == 2017]\n",
    "_2018 = population.loc[population['annee'] == 2018]"
   ]
  },
  {
   "cell_type": "code",
   "execution_count": 14,
   "metadata": {},
   "outputs": [],
   "source": [
    "_2017 = _2017.rename(columns={'habitant':'habitant_2017'})\n",
    "_2018 = _2018.rename(columns={'habitant':'habitant_2018'})"
   ]
  },
  {
   "cell_type": "code",
   "execution_count": 15,
   "metadata": {},
   "outputs": [],
   "source": [
    "df2 = pd.merge(_2017,_2018, on = ['code_pays','pays'], how='outer')"
   ]
  },
  {
   "cell_type": "code",
   "execution_count": 16,
   "metadata": {},
   "outputs": [],
   "source": [
    "df2.drop(['annee_x','annee_y'], axis=1, inplace=True)"
   ]
  },
  {
   "cell_type": "code",
   "execution_count": 17,
   "metadata": {},
   "outputs": [
    {
     "data": {
      "text/plain": [
       "Index(['code_pays', 'pays', 'habitant_2017', 'habitant_2018'], dtype='object')"
      ]
     },
     "execution_count": 17,
     "metadata": {},
     "output_type": "execute_result"
    }
   ],
   "source": [
    "df2.columns"
   ]
  },
  {
   "cell_type": "code",
   "execution_count": 18,
   "metadata": {},
   "outputs": [
    {
     "data": {
      "text/plain": [
       "Index(['code_pays', 'pays', 'element', 'code_produit', 'produit', 'annee',\n",
       "       'unite', 'quantite', 'num', 'code', 'habitant'],\n",
       "      dtype='object')"
      ]
     },
     "execution_count": 18,
     "metadata": {},
     "output_type": "execute_result"
    }
   ],
   "source": [
    "df_p5.columns"
   ]
  },
  {
   "cell_type": "code",
   "execution_count": 19,
   "metadata": {},
   "outputs": [],
   "source": [
    "ddf = pd.merge(df_p5, df2, on = ['code_pays','pays'])"
   ]
  },
  {
   "cell_type": "code",
   "execution_count": 20,
   "metadata": {},
   "outputs": [
    {
     "data": {
      "text/html": [
       "<div>\n",
       "<style scoped>\n",
       "    .dataframe tbody tr th:only-of-type {\n",
       "        vertical-align: middle;\n",
       "    }\n",
       "\n",
       "    .dataframe tbody tr th {\n",
       "        vertical-align: top;\n",
       "    }\n",
       "\n",
       "    .dataframe thead th {\n",
       "        text-align: right;\n",
       "    }\n",
       "</style>\n",
       "<table border=\"1\" class=\"dataframe\">\n",
       "  <thead>\n",
       "    <tr style=\"text-align: right;\">\n",
       "      <th></th>\n",
       "      <th>code_pays</th>\n",
       "      <th>pays</th>\n",
       "      <th>element</th>\n",
       "      <th>code_produit</th>\n",
       "      <th>produit</th>\n",
       "      <th>annee</th>\n",
       "      <th>unite</th>\n",
       "      <th>quantite</th>\n",
       "      <th>num</th>\n",
       "      <th>code</th>\n",
       "      <th>habitant</th>\n",
       "      <th>habitant_2017</th>\n",
       "      <th>habitant_2018</th>\n",
       "    </tr>\n",
       "  </thead>\n",
       "  <tbody>\n",
       "    <tr>\n",
       "      <th>0</th>\n",
       "      <td>2</td>\n",
       "      <td>Afghanistan</td>\n",
       "      <td>Disponibilité alimentaire (Kcal/personne/jour)</td>\n",
       "      <td>2903</td>\n",
       "      <td>Produits Vegetaux</td>\n",
       "      <td>2018</td>\n",
       "      <td>Kcal/personne/jour</td>\n",
       "      <td>1849.00</td>\n",
       "      <td>4.0</td>\n",
       "      <td>AFG</td>\n",
       "      <td>37171921</td>\n",
       "      <td>36296113</td>\n",
       "      <td>37171921</td>\n",
       "    </tr>\n",
       "    <tr>\n",
       "      <th>1</th>\n",
       "      <td>2</td>\n",
       "      <td>Afghanistan</td>\n",
       "      <td>Disponibilité de protéines en quantité (g/pers...</td>\n",
       "      <td>2903</td>\n",
       "      <td>Produits Vegetaux</td>\n",
       "      <td>2018</td>\n",
       "      <td>g/personne/jour</td>\n",
       "      <td>44.73</td>\n",
       "      <td>4.0</td>\n",
       "      <td>AFG</td>\n",
       "      <td>37171921</td>\n",
       "      <td>36296113</td>\n",
       "      <td>37171921</td>\n",
       "    </tr>\n",
       "    <tr>\n",
       "      <th>2</th>\n",
       "      <td>2</td>\n",
       "      <td>Afghanistan</td>\n",
       "      <td>Disponibilité alimentaire (Kcal/personne/jour)</td>\n",
       "      <td>2941</td>\n",
       "      <td>Produits Animaux</td>\n",
       "      <td>2018</td>\n",
       "      <td>Kcal/personne/jour</td>\n",
       "      <td>191.00</td>\n",
       "      <td>4.0</td>\n",
       "      <td>AFG</td>\n",
       "      <td>37171921</td>\n",
       "      <td>36296113</td>\n",
       "      <td>37171921</td>\n",
       "    </tr>\n",
       "    <tr>\n",
       "      <th>3</th>\n",
       "      <td>2</td>\n",
       "      <td>Afghanistan</td>\n",
       "      <td>Disponibilité de protéines en quantité (g/pers...</td>\n",
       "      <td>2941</td>\n",
       "      <td>Produits Animaux</td>\n",
       "      <td>2018</td>\n",
       "      <td>g/personne/jour</td>\n",
       "      <td>10.79</td>\n",
       "      <td>4.0</td>\n",
       "      <td>AFG</td>\n",
       "      <td>37171921</td>\n",
       "      <td>36296113</td>\n",
       "      <td>37171921</td>\n",
       "    </tr>\n",
       "    <tr>\n",
       "      <th>4</th>\n",
       "      <td>202</td>\n",
       "      <td>Afrique du Sud</td>\n",
       "      <td>Disponibilité alimentaire (Kcal/personne/jour)</td>\n",
       "      <td>2903</td>\n",
       "      <td>Produits Vegetaux</td>\n",
       "      <td>2018</td>\n",
       "      <td>Kcal/personne/jour</td>\n",
       "      <td>2420.00</td>\n",
       "      <td>710.0</td>\n",
       "      <td>ZAF</td>\n",
       "      <td>57792518</td>\n",
       "      <td>57009755</td>\n",
       "      <td>57792518</td>\n",
       "    </tr>\n",
       "  </tbody>\n",
       "</table>\n",
       "</div>"
      ],
      "text/plain": [
       "   code_pays            pays  \\\n",
       "0          2     Afghanistan   \n",
       "1          2     Afghanistan   \n",
       "2          2     Afghanistan   \n",
       "3          2     Afghanistan   \n",
       "4        202  Afrique du Sud   \n",
       "\n",
       "                                             element  code_produit  \\\n",
       "0     Disponibilité alimentaire (Kcal/personne/jour)          2903   \n",
       "1  Disponibilité de protéines en quantité (g/pers...          2903   \n",
       "2     Disponibilité alimentaire (Kcal/personne/jour)          2941   \n",
       "3  Disponibilité de protéines en quantité (g/pers...          2941   \n",
       "4     Disponibilité alimentaire (Kcal/personne/jour)          2903   \n",
       "\n",
       "             produit  annee               unite  quantite    num code  \\\n",
       "0  Produits Vegetaux   2018  Kcal/personne/jour   1849.00    4.0  AFG   \n",
       "1  Produits Vegetaux   2018     g/personne/jour     44.73    4.0  AFG   \n",
       "2   Produits Animaux   2018  Kcal/personne/jour    191.00    4.0  AFG   \n",
       "3   Produits Animaux   2018     g/personne/jour     10.79    4.0  AFG   \n",
       "4  Produits Vegetaux   2018  Kcal/personne/jour   2420.00  710.0  ZAF   \n",
       "\n",
       "   habitant  habitant_2017  habitant_2018  \n",
       "0  37171921       36296113       37171921  \n",
       "1  37171921       36296113       37171921  \n",
       "2  37171921       36296113       37171921  \n",
       "3  37171921       36296113       37171921  \n",
       "4  57792518       57009755       57792518  "
      ]
     },
     "execution_count": 20,
     "metadata": {},
     "output_type": "execute_result"
    }
   ],
   "source": [
    "ddf.head()"
   ]
  },
  {
   "cell_type": "code",
   "execution_count": null,
   "metadata": {},
   "outputs": [],
   "source": []
  },
  {
   "cell_type": "code",
   "execution_count": 21,
   "metadata": {},
   "outputs": [],
   "source": [
    "ddf['diff'] = ddf['habitant_2018']-ddf['habitant_2017']\n",
    "ddf['taux_daccroiss_pop'] = np.round((ddf['diff']*100)/ddf['habitant_2017'],2)"
   ]
  },
  {
   "cell_type": "code",
   "execution_count": 22,
   "metadata": {},
   "outputs": [
    {
     "data": {
      "text/plain": [
       "(624, 15)"
      ]
     },
     "execution_count": 22,
     "metadata": {},
     "output_type": "execute_result"
    }
   ],
   "source": [
    "ddf.shape"
   ]
  },
  {
   "cell_type": "markdown",
   "metadata": {},
   "source": [
    "## Les filtres"
   ]
  },
  {
   "cell_type": "code",
   "execution_count": 23,
   "metadata": {},
   "outputs": [],
   "source": [
    "dispo_kcal = ddf[ddf['element'] == 'Disponibilité alimentaire (Kcal/personne/jour)'].copy()\n",
    "dispo_prot = ddf[ddf['element'] == 'Disponibilité de protéines en quantité (g/personne/jour)'].copy()"
   ]
  },
  {
   "cell_type": "code",
   "execution_count": 24,
   "metadata": {},
   "outputs": [
    {
     "data": {
      "text/plain": [
       "(312, 15)"
      ]
     },
     "execution_count": 24,
     "metadata": {},
     "output_type": "execute_result"
    }
   ],
   "source": [
    "dispo_kcal.shape"
   ]
  },
  {
   "cell_type": "code",
   "execution_count": 25,
   "metadata": {},
   "outputs": [],
   "source": [
    "# Dropper les colonnes element et unite\n",
    "dispo_kcal.drop(['element','unite'], axis=1, inplace=True)\n",
    "dispo_prot.drop(['element','unite'], axis=1, inplace=True)\n",
    "\n",
    "#Multiplier les quantités par 365\n",
    "dispo_kcal['quantite'] = dispo_kcal['quantite']*365\n",
    "dispo_prot['quantite'] = dispo_prot['quantite']*365\n",
    "\n",
    "# Renommer la colonne quantite en fonction de la variable\n",
    "dispo_kcal.rename(columns={'quantite':'dispo_alim_kcal_p_an'}, inplace=True)\n",
    "dispo_prot.rename(columns={'quantite':'dispo_prot_g_p_an'}, inplace=True)"
   ]
  },
  {
   "cell_type": "code",
   "execution_count": 26,
   "metadata": {},
   "outputs": [
    {
     "data": {
      "text/plain": [
       "Index(['code_pays', 'pays', 'code_produit', 'produit', 'annee',\n",
       "       'dispo_alim_kcal_p_an', 'num', 'code', 'habitant', 'habitant_2017',\n",
       "       'habitant_2018', 'diff', 'taux_daccroiss_pop'],\n",
       "      dtype='object')"
      ]
     },
     "execution_count": 26,
     "metadata": {},
     "output_type": "execute_result"
    }
   ],
   "source": [
    "dispo_kcal.columns"
   ]
  },
  {
   "cell_type": "markdown",
   "metadata": {},
   "source": [
    "## Jointures"
   ]
  },
  {
   "cell_type": "code",
   "execution_count": 27,
   "metadata": {},
   "outputs": [],
   "source": [
    "df_kcal_prot = pd.merge(dispo_kcal, dispo_prot, on = ['code_pays','pays','annee','code_produit','produit','habitant_2017','habitant_2018','num','code','diff','taux_daccroiss_pop'], how ='outer')"
   ]
  },
  {
   "cell_type": "code",
   "execution_count": 28,
   "metadata": {},
   "outputs": [],
   "source": [
    "#Réorganiser les colonnes\n",
    "df_kcal_prot = df_kcal_prot.reindex(columns=['code_pays','pays','code_produit','produit','dispo_alim_kcal_p_an','dispo_prot_g_p_an','code','num','annee','habitant_2017','habitant_2018','diff','taux_daccroiss_pop'])"
   ]
  },
  {
   "cell_type": "code",
   "execution_count": 29,
   "metadata": {},
   "outputs": [
    {
     "data": {
      "text/html": [
       "<div>\n",
       "<style scoped>\n",
       "    .dataframe tbody tr th:only-of-type {\n",
       "        vertical-align: middle;\n",
       "    }\n",
       "\n",
       "    .dataframe tbody tr th {\n",
       "        vertical-align: top;\n",
       "    }\n",
       "\n",
       "    .dataframe thead th {\n",
       "        text-align: right;\n",
       "    }\n",
       "</style>\n",
       "<table border=\"1\" class=\"dataframe\">\n",
       "  <thead>\n",
       "    <tr style=\"text-align: right;\">\n",
       "      <th></th>\n",
       "      <th>code_pays</th>\n",
       "      <th>pays</th>\n",
       "      <th>code_produit</th>\n",
       "      <th>produit</th>\n",
       "      <th>dispo_alim_kcal_p_an</th>\n",
       "      <th>dispo_prot_g_p_an</th>\n",
       "      <th>code</th>\n",
       "      <th>num</th>\n",
       "      <th>annee</th>\n",
       "      <th>habitant_2017</th>\n",
       "      <th>habitant_2018</th>\n",
       "      <th>diff</th>\n",
       "      <th>taux_daccroiss_pop</th>\n",
       "    </tr>\n",
       "  </thead>\n",
       "  <tbody>\n",
       "    <tr>\n",
       "      <th>0</th>\n",
       "      <td>2</td>\n",
       "      <td>Afghanistan</td>\n",
       "      <td>2903</td>\n",
       "      <td>Produits Vegetaux</td>\n",
       "      <td>674885.0</td>\n",
       "      <td>16326.45</td>\n",
       "      <td>AFG</td>\n",
       "      <td>4.0</td>\n",
       "      <td>2018</td>\n",
       "      <td>36296113</td>\n",
       "      <td>37171921</td>\n",
       "      <td>875808</td>\n",
       "      <td>2.41</td>\n",
       "    </tr>\n",
       "    <tr>\n",
       "      <th>1</th>\n",
       "      <td>2</td>\n",
       "      <td>Afghanistan</td>\n",
       "      <td>2941</td>\n",
       "      <td>Produits Animaux</td>\n",
       "      <td>69715.0</td>\n",
       "      <td>3938.35</td>\n",
       "      <td>AFG</td>\n",
       "      <td>4.0</td>\n",
       "      <td>2018</td>\n",
       "      <td>36296113</td>\n",
       "      <td>37171921</td>\n",
       "      <td>875808</td>\n",
       "      <td>2.41</td>\n",
       "    </tr>\n",
       "    <tr>\n",
       "      <th>2</th>\n",
       "      <td>202</td>\n",
       "      <td>Afrique du Sud</td>\n",
       "      <td>2903</td>\n",
       "      <td>Produits Vegetaux</td>\n",
       "      <td>883300.0</td>\n",
       "      <td>17640.45</td>\n",
       "      <td>ZAF</td>\n",
       "      <td>710.0</td>\n",
       "      <td>2018</td>\n",
       "      <td>57009755</td>\n",
       "      <td>57792518</td>\n",
       "      <td>782763</td>\n",
       "      <td>1.37</td>\n",
       "    </tr>\n",
       "    <tr>\n",
       "      <th>3</th>\n",
       "      <td>202</td>\n",
       "      <td>Afrique du Sud</td>\n",
       "      <td>2941</td>\n",
       "      <td>Produits Animaux</td>\n",
       "      <td>174835.0</td>\n",
       "      <td>13150.95</td>\n",
       "      <td>ZAF</td>\n",
       "      <td>710.0</td>\n",
       "      <td>2018</td>\n",
       "      <td>57009755</td>\n",
       "      <td>57792518</td>\n",
       "      <td>782763</td>\n",
       "      <td>1.37</td>\n",
       "    </tr>\n",
       "    <tr>\n",
       "      <th>4</th>\n",
       "      <td>3</td>\n",
       "      <td>Albanie</td>\n",
       "      <td>2903</td>\n",
       "      <td>Produits Vegetaux</td>\n",
       "      <td>860305.0</td>\n",
       "      <td>19710.00</td>\n",
       "      <td>ALB</td>\n",
       "      <td>8.0</td>\n",
       "      <td>2018</td>\n",
       "      <td>2884169</td>\n",
       "      <td>2882740</td>\n",
       "      <td>-1429</td>\n",
       "      <td>-0.05</td>\n",
       "    </tr>\n",
       "  </tbody>\n",
       "</table>\n",
       "</div>"
      ],
      "text/plain": [
       "   code_pays            pays  code_produit            produit  \\\n",
       "0          2     Afghanistan          2903  Produits Vegetaux   \n",
       "1          2     Afghanistan          2941   Produits Animaux   \n",
       "2        202  Afrique du Sud          2903  Produits Vegetaux   \n",
       "3        202  Afrique du Sud          2941   Produits Animaux   \n",
       "4          3         Albanie          2903  Produits Vegetaux   \n",
       "\n",
       "   dispo_alim_kcal_p_an  dispo_prot_g_p_an code    num  annee  habitant_2017  \\\n",
       "0              674885.0           16326.45  AFG    4.0   2018       36296113   \n",
       "1               69715.0            3938.35  AFG    4.0   2018       36296113   \n",
       "2              883300.0           17640.45  ZAF  710.0   2018       57009755   \n",
       "3              174835.0           13150.95  ZAF  710.0   2018       57009755   \n",
       "4              860305.0           19710.00  ALB    8.0   2018        2884169   \n",
       "\n",
       "   habitant_2018    diff  taux_daccroiss_pop  \n",
       "0       37171921  875808                2.41  \n",
       "1       37171921  875808                2.41  \n",
       "2       57792518  782763                1.37  \n",
       "3       57792518  782763                1.37  \n",
       "4        2882740   -1429               -0.05  "
      ]
     },
     "execution_count": 29,
     "metadata": {},
     "output_type": "execute_result"
    }
   ],
   "source": [
    "df_kcal_prot.head()"
   ]
  },
  {
   "cell_type": "code",
   "execution_count": 30,
   "metadata": {},
   "outputs": [],
   "source": [
    "#Créer la colonne proport de protéine animale\n",
    "df_kcal_prot['proport_prot_ani'] = ((df_kcal_prot.loc[df_kcal_prot['produit'] == 'Produits Animaux','dispo_prot_g_p_an']*100)/df_kcal_prot['dispo_prot_g_p_an'].sum())"
   ]
  },
  {
   "cell_type": "code",
   "execution_count": 31,
   "metadata": {},
   "outputs": [],
   "source": [
    "#Créer la colonne proport de protéine vegetaux\n",
    "df_kcal_prot['proport_prot_veg'] = ((df_kcal_prot.loc[df_kcal_prot['produit'] == 'Produits Vegetaux','dispo_prot_g_p_an']*100)/df_kcal_prot['dispo_prot_g_p_an'].sum())"
   ]
  },
  {
   "cell_type": "code",
   "execution_count": 32,
   "metadata": {},
   "outputs": [
    {
     "data": {
      "text/plain": [
       "100.0"
      ]
     },
     "execution_count": 32,
     "metadata": {},
     "output_type": "execute_result"
    }
   ],
   "source": [
    "#Vérification\n",
    "df_kcal_prot.proport_prot_veg.sum()+df_kcal_prot.proport_prot_ani.sum()"
   ]
  },
  {
   "cell_type": "code",
   "execution_count": 33,
   "metadata": {},
   "outputs": [
    {
     "data": {
      "text/html": [
       "<div>\n",
       "<style scoped>\n",
       "    .dataframe tbody tr th:only-of-type {\n",
       "        vertical-align: middle;\n",
       "    }\n",
       "\n",
       "    .dataframe tbody tr th {\n",
       "        vertical-align: top;\n",
       "    }\n",
       "\n",
       "    .dataframe thead th {\n",
       "        text-align: right;\n",
       "    }\n",
       "</style>\n",
       "<table border=\"1\" class=\"dataframe\">\n",
       "  <thead>\n",
       "    <tr style=\"text-align: right;\">\n",
       "      <th></th>\n",
       "      <th>code_pays</th>\n",
       "      <th>pays</th>\n",
       "      <th>code_produit</th>\n",
       "      <th>produit</th>\n",
       "      <th>dispo_alim_kcal_p_an</th>\n",
       "      <th>dispo_prot_g_p_an</th>\n",
       "      <th>code</th>\n",
       "      <th>num</th>\n",
       "      <th>annee</th>\n",
       "      <th>habitant_2017</th>\n",
       "      <th>habitant_2018</th>\n",
       "      <th>diff</th>\n",
       "      <th>taux_daccroiss_pop</th>\n",
       "      <th>proport_prot_ani</th>\n",
       "      <th>proport_prot_veg</th>\n",
       "    </tr>\n",
       "  </thead>\n",
       "  <tbody>\n",
       "    <tr>\n",
       "      <th>0</th>\n",
       "      <td>2</td>\n",
       "      <td>Afghanistan</td>\n",
       "      <td>2903</td>\n",
       "      <td>Produits Vegetaux</td>\n",
       "      <td>674885.0</td>\n",
       "      <td>16326.45</td>\n",
       "      <td>AFG</td>\n",
       "      <td>4.0</td>\n",
       "      <td>2018</td>\n",
       "      <td>36296113</td>\n",
       "      <td>37171921</td>\n",
       "      <td>875808</td>\n",
       "      <td>2.41</td>\n",
       "      <td>NaN</td>\n",
       "      <td>0.34840</td>\n",
       "    </tr>\n",
       "    <tr>\n",
       "      <th>1</th>\n",
       "      <td>2</td>\n",
       "      <td>Afghanistan</td>\n",
       "      <td>2941</td>\n",
       "      <td>Produits Animaux</td>\n",
       "      <td>69715.0</td>\n",
       "      <td>3938.35</td>\n",
       "      <td>AFG</td>\n",
       "      <td>4.0</td>\n",
       "      <td>2018</td>\n",
       "      <td>36296113</td>\n",
       "      <td>37171921</td>\n",
       "      <td>875808</td>\n",
       "      <td>2.41</td>\n",
       "      <td>0.084043</td>\n",
       "      <td>NaN</td>\n",
       "    </tr>\n",
       "    <tr>\n",
       "      <th>2</th>\n",
       "      <td>202</td>\n",
       "      <td>Afrique du Sud</td>\n",
       "      <td>2903</td>\n",
       "      <td>Produits Vegetaux</td>\n",
       "      <td>883300.0</td>\n",
       "      <td>17640.45</td>\n",
       "      <td>ZAF</td>\n",
       "      <td>710.0</td>\n",
       "      <td>2018</td>\n",
       "      <td>57009755</td>\n",
       "      <td>57792518</td>\n",
       "      <td>782763</td>\n",
       "      <td>1.37</td>\n",
       "      <td>NaN</td>\n",
       "      <td>0.37644</td>\n",
       "    </tr>\n",
       "  </tbody>\n",
       "</table>\n",
       "</div>"
      ],
      "text/plain": [
       "   code_pays            pays  code_produit            produit  \\\n",
       "0          2     Afghanistan          2903  Produits Vegetaux   \n",
       "1          2     Afghanistan          2941   Produits Animaux   \n",
       "2        202  Afrique du Sud          2903  Produits Vegetaux   \n",
       "\n",
       "   dispo_alim_kcal_p_an  dispo_prot_g_p_an code    num  annee  habitant_2017  \\\n",
       "0              674885.0           16326.45  AFG    4.0   2018       36296113   \n",
       "1               69715.0            3938.35  AFG    4.0   2018       36296113   \n",
       "2              883300.0           17640.45  ZAF  710.0   2018       57009755   \n",
       "\n",
       "   habitant_2018    diff  taux_daccroiss_pop  proport_prot_ani  \\\n",
       "0       37171921  875808                2.41               NaN   \n",
       "1       37171921  875808                2.41          0.084043   \n",
       "2       57792518  782763                1.37               NaN   \n",
       "\n",
       "   proport_prot_veg  \n",
       "0           0.34840  \n",
       "1               NaN  \n",
       "2           0.37644  "
      ]
     },
     "execution_count": 33,
     "metadata": {},
     "output_type": "execute_result"
    }
   ],
   "source": [
    "df_kcal_prot.head(3)"
   ]
  },
  {
   "cell_type": "markdown",
   "metadata": {},
   "source": [
    "### Filtrage"
   ]
  },
  {
   "cell_type": "code",
   "execution_count": 34,
   "metadata": {},
   "outputs": [],
   "source": [
    "veg = df_kcal_prot[df_kcal_prot['produit'] == 'Produits Vegetaux'].copy()\n",
    "ani = df_kcal_prot[df_kcal_prot['produit'] == 'Produits Animaux'].copy()"
   ]
  },
  {
   "cell_type": "code",
   "execution_count": 35,
   "metadata": {},
   "outputs": [],
   "source": [
    "#Choisir seulement les colonnes utiles pour le dataframe ani\n",
    "ani = ani[['code_pays','pays','dispo_alim_kcal_p_an','dispo_prot_g_p_an','proport_prot_ani']]\n",
    "\n",
    "#renommer les colonnes\n",
    "ani.rename(columns={'dispo_alim_kcal_p_an':'dispo_alim_kcal_p_an_ani','dispo_prot_g_p_an':'dispo_prot_g_p_an_ani'}, inplace=True)\n",
    "veg.rename(columns={'dispo_alim_kcal_p_an':'dispo_alim_kcal_p_an_veg','dispo_prot_g_p_an':'dispo_prot_g_p_an_veg'}, inplace=True)"
   ]
  },
  {
   "cell_type": "code",
   "execution_count": 36,
   "metadata": {},
   "outputs": [
    {
     "data": {
      "text/html": [
       "<div>\n",
       "<style scoped>\n",
       "    .dataframe tbody tr th:only-of-type {\n",
       "        vertical-align: middle;\n",
       "    }\n",
       "\n",
       "    .dataframe tbody tr th {\n",
       "        vertical-align: top;\n",
       "    }\n",
       "\n",
       "    .dataframe thead th {\n",
       "        text-align: right;\n",
       "    }\n",
       "</style>\n",
       "<table border=\"1\" class=\"dataframe\">\n",
       "  <thead>\n",
       "    <tr style=\"text-align: right;\">\n",
       "      <th></th>\n",
       "      <th>code_pays</th>\n",
       "      <th>pays</th>\n",
       "      <th>dispo_alim_kcal_p_an_ani</th>\n",
       "      <th>dispo_prot_g_p_an_ani</th>\n",
       "      <th>proport_prot_ani</th>\n",
       "    </tr>\n",
       "  </thead>\n",
       "  <tbody>\n",
       "    <tr>\n",
       "      <th>1</th>\n",
       "      <td>2</td>\n",
       "      <td>Afghanistan</td>\n",
       "      <td>69715.0</td>\n",
       "      <td>3938.35</td>\n",
       "      <td>0.084043</td>\n",
       "    </tr>\n",
       "    <tr>\n",
       "      <th>3</th>\n",
       "      <td>202</td>\n",
       "      <td>Afrique du Sud</td>\n",
       "      <td>174835.0</td>\n",
       "      <td>13150.95</td>\n",
       "      <td>0.280636</td>\n",
       "    </tr>\n",
       "    <tr>\n",
       "      <th>5</th>\n",
       "      <td>3</td>\n",
       "      <td>Albanie</td>\n",
       "      <td>366095.0</td>\n",
       "      <td>22538.75</td>\n",
       "      <td>0.480968</td>\n",
       "    </tr>\n",
       "    <tr>\n",
       "      <th>7</th>\n",
       "      <td>4</td>\n",
       "      <td>Algérie</td>\n",
       "      <td>142350.0</td>\n",
       "      <td>9026.45</td>\n",
       "      <td>0.192621</td>\n",
       "    </tr>\n",
       "    <tr>\n",
       "      <th>9</th>\n",
       "      <td>79</td>\n",
       "      <td>Allemagne</td>\n",
       "      <td>396390.0</td>\n",
       "      <td>23370.95</td>\n",
       "      <td>0.498727</td>\n",
       "    </tr>\n",
       "  </tbody>\n",
       "</table>\n",
       "</div>"
      ],
      "text/plain": [
       "   code_pays            pays  dispo_alim_kcal_p_an_ani  dispo_prot_g_p_an_ani  \\\n",
       "1          2     Afghanistan                   69715.0                3938.35   \n",
       "3        202  Afrique du Sud                  174835.0               13150.95   \n",
       "5          3         Albanie                  366095.0               22538.75   \n",
       "7          4         Algérie                  142350.0                9026.45   \n",
       "9         79       Allemagne                  396390.0               23370.95   \n",
       "\n",
       "   proport_prot_ani  \n",
       "1          0.084043  \n",
       "3          0.280636  \n",
       "5          0.480968  \n",
       "7          0.192621  \n",
       "9          0.498727  "
      ]
     },
     "execution_count": 36,
     "metadata": {},
     "output_type": "execute_result"
    }
   ],
   "source": [
    "ani.head()"
   ]
  },
  {
   "cell_type": "code",
   "execution_count": 37,
   "metadata": {},
   "outputs": [
    {
     "data": {
      "text/html": [
       "<div>\n",
       "<style scoped>\n",
       "    .dataframe tbody tr th:only-of-type {\n",
       "        vertical-align: middle;\n",
       "    }\n",
       "\n",
       "    .dataframe tbody tr th {\n",
       "        vertical-align: top;\n",
       "    }\n",
       "\n",
       "    .dataframe thead th {\n",
       "        text-align: right;\n",
       "    }\n",
       "</style>\n",
       "<table border=\"1\" class=\"dataframe\">\n",
       "  <thead>\n",
       "    <tr style=\"text-align: right;\">\n",
       "      <th></th>\n",
       "      <th>code_pays</th>\n",
       "      <th>pays</th>\n",
       "      <th>code_produit</th>\n",
       "      <th>produit</th>\n",
       "      <th>dispo_alim_kcal_p_an_veg</th>\n",
       "      <th>dispo_prot_g_p_an_veg</th>\n",
       "      <th>code</th>\n",
       "      <th>num</th>\n",
       "      <th>annee</th>\n",
       "      <th>habitant_2017</th>\n",
       "      <th>habitant_2018</th>\n",
       "      <th>diff</th>\n",
       "      <th>taux_daccroiss_pop</th>\n",
       "      <th>proport_prot_ani</th>\n",
       "      <th>proport_prot_veg</th>\n",
       "    </tr>\n",
       "  </thead>\n",
       "  <tbody>\n",
       "    <tr>\n",
       "      <th>0</th>\n",
       "      <td>2</td>\n",
       "      <td>Afghanistan</td>\n",
       "      <td>2903</td>\n",
       "      <td>Produits Vegetaux</td>\n",
       "      <td>674885.0</td>\n",
       "      <td>16326.45</td>\n",
       "      <td>AFG</td>\n",
       "      <td>4.0</td>\n",
       "      <td>2018</td>\n",
       "      <td>36296113</td>\n",
       "      <td>37171921</td>\n",
       "      <td>875808</td>\n",
       "      <td>2.41</td>\n",
       "      <td>NaN</td>\n",
       "      <td>0.348400</td>\n",
       "    </tr>\n",
       "    <tr>\n",
       "      <th>2</th>\n",
       "      <td>202</td>\n",
       "      <td>Afrique du Sud</td>\n",
       "      <td>2903</td>\n",
       "      <td>Produits Vegetaux</td>\n",
       "      <td>883300.0</td>\n",
       "      <td>17640.45</td>\n",
       "      <td>ZAF</td>\n",
       "      <td>710.0</td>\n",
       "      <td>2018</td>\n",
       "      <td>57009755</td>\n",
       "      <td>57792518</td>\n",
       "      <td>782763</td>\n",
       "      <td>1.37</td>\n",
       "      <td>NaN</td>\n",
       "      <td>0.376440</td>\n",
       "    </tr>\n",
       "    <tr>\n",
       "      <th>4</th>\n",
       "      <td>3</td>\n",
       "      <td>Albanie</td>\n",
       "      <td>2903</td>\n",
       "      <td>Produits Vegetaux</td>\n",
       "      <td>860305.0</td>\n",
       "      <td>19710.00</td>\n",
       "      <td>ALB</td>\n",
       "      <td>8.0</td>\n",
       "      <td>2018</td>\n",
       "      <td>2884169</td>\n",
       "      <td>2882740</td>\n",
       "      <td>-1429</td>\n",
       "      <td>-0.05</td>\n",
       "      <td>NaN</td>\n",
       "      <td>0.420604</td>\n",
       "    </tr>\n",
       "    <tr>\n",
       "      <th>6</th>\n",
       "      <td>4</td>\n",
       "      <td>Algérie</td>\n",
       "      <td>2903</td>\n",
       "      <td>Produits Vegetaux</td>\n",
       "      <td>1070180.0</td>\n",
       "      <td>24491.50</td>\n",
       "      <td>DZA</td>\n",
       "      <td>12.0</td>\n",
       "      <td>2018</td>\n",
       "      <td>41389189</td>\n",
       "      <td>42228407</td>\n",
       "      <td>839218</td>\n",
       "      <td>2.03</td>\n",
       "      <td>NaN</td>\n",
       "      <td>0.522639</td>\n",
       "    </tr>\n",
       "    <tr>\n",
       "      <th>8</th>\n",
       "      <td>79</td>\n",
       "      <td>Allemagne</td>\n",
       "      <td>2903</td>\n",
       "      <td>Produits Vegetaux</td>\n",
       "      <td>900820.0</td>\n",
       "      <td>15100.05</td>\n",
       "      <td>DEU</td>\n",
       "      <td>276.0</td>\n",
       "      <td>2018</td>\n",
       "      <td>82658409</td>\n",
       "      <td>83124418</td>\n",
       "      <td>466009</td>\n",
       "      <td>0.56</td>\n",
       "      <td>NaN</td>\n",
       "      <td>0.322229</td>\n",
       "    </tr>\n",
       "  </tbody>\n",
       "</table>\n",
       "</div>"
      ],
      "text/plain": [
       "   code_pays            pays  code_produit            produit  \\\n",
       "0          2     Afghanistan          2903  Produits Vegetaux   \n",
       "2        202  Afrique du Sud          2903  Produits Vegetaux   \n",
       "4          3         Albanie          2903  Produits Vegetaux   \n",
       "6          4         Algérie          2903  Produits Vegetaux   \n",
       "8         79       Allemagne          2903  Produits Vegetaux   \n",
       "\n",
       "   dispo_alim_kcal_p_an_veg  dispo_prot_g_p_an_veg code    num  annee  \\\n",
       "0                  674885.0               16326.45  AFG    4.0   2018   \n",
       "2                  883300.0               17640.45  ZAF  710.0   2018   \n",
       "4                  860305.0               19710.00  ALB    8.0   2018   \n",
       "6                 1070180.0               24491.50  DZA   12.0   2018   \n",
       "8                  900820.0               15100.05  DEU  276.0   2018   \n",
       "\n",
       "   habitant_2017  habitant_2018    diff  taux_daccroiss_pop  proport_prot_ani  \\\n",
       "0       36296113       37171921  875808                2.41               NaN   \n",
       "2       57009755       57792518  782763                1.37               NaN   \n",
       "4        2884169        2882740   -1429               -0.05               NaN   \n",
       "6       41389189       42228407  839218                2.03               NaN   \n",
       "8       82658409       83124418  466009                0.56               NaN   \n",
       "\n",
       "   proport_prot_veg  \n",
       "0          0.348400  \n",
       "2          0.376440  \n",
       "4          0.420604  \n",
       "6          0.522639  \n",
       "8          0.322229  "
      ]
     },
     "execution_count": 37,
     "metadata": {},
     "output_type": "execute_result"
    }
   ],
   "source": [
    "veg.head()"
   ]
  },
  {
   "cell_type": "code",
   "execution_count": 38,
   "metadata": {},
   "outputs": [],
   "source": [
    "#Suppression des colonnes inutiles dans du df veg\n",
    "veg.drop(['code_produit','produit','proport_prot_ani'], axis=1, inplace=True)"
   ]
  },
  {
   "cell_type": "code",
   "execution_count": 39,
   "metadata": {},
   "outputs": [
    {
     "data": {
      "text/plain": [
       "(156, 5)"
      ]
     },
     "execution_count": 39,
     "metadata": {},
     "output_type": "execute_result"
    }
   ],
   "source": [
    "ani.shape"
   ]
  },
  {
   "cell_type": "markdown",
   "metadata": {},
   "source": [
    "### Jointure en ani et veg de telle sorter à séparer les diso_alim veg et ani"
   ]
  },
  {
   "cell_type": "code",
   "execution_count": 40,
   "metadata": {},
   "outputs": [],
   "source": [
    "veg_ani = pd.merge(veg, ani, on = ['code_pays', 'pays'])\n",
    "\n",
    "#Arrondir les colonnes\n",
    "veg_ani['proport_prot_ani'] = np.round(veg_ani['proport_prot_ani'],2)\n",
    "veg_ani['proport_prot_veg'] = np.round(veg_ani['proport_prot_ani'],2)\n",
    "veg_ani['dispo_prot_g_p_an_veg'] = np.round(veg_ani['dispo_prot_g_p_an_veg'],2)\n",
    "veg_ani['dispo_prot_g_p_an_ani'] = np.round(veg_ani['dispo_prot_g_p_an_ani'],2)"
   ]
  },
  {
   "cell_type": "code",
   "execution_count": 41,
   "metadata": {},
   "outputs": [
    {
     "data": {
      "text/plain": [
       "(156, 15)"
      ]
     },
     "execution_count": 41,
     "metadata": {},
     "output_type": "execute_result"
    }
   ],
   "source": [
    "veg_ani.shape"
   ]
  },
  {
   "cell_type": "raw",
   "metadata": {},
   "source": [
    "#Jointure avec le df pib pour avoir le pib\n",
    "veg_ani = pd.merge(veg_ani, pib, on = ['pays','annee'], how='inner')"
   ]
  },
  {
   "cell_type": "code",
   "execution_count": 42,
   "metadata": {},
   "outputs": [],
   "source": [
    "#Supprimer les colonnes inutiles pour l'analyse\n",
    "veg_ani.drop(['diff','annee','dispo_prot_g_p_an_veg','habitant_2017','proport_prot_veg','dispo_alim_kcal_p_an_veg'], axis =1, inplace=True)"
   ]
  },
  {
   "cell_type": "code",
   "execution_count": 43,
   "metadata": {},
   "outputs": [],
   "source": [
    "df = veg_ani.copy()"
   ]
  },
  {
   "cell_type": "code",
   "execution_count": 44,
   "metadata": {},
   "outputs": [
    {
     "data": {
      "text/html": [
       "<div>\n",
       "<style scoped>\n",
       "    .dataframe tbody tr th:only-of-type {\n",
       "        vertical-align: middle;\n",
       "    }\n",
       "\n",
       "    .dataframe tbody tr th {\n",
       "        vertical-align: top;\n",
       "    }\n",
       "\n",
       "    .dataframe thead th {\n",
       "        text-align: right;\n",
       "    }\n",
       "</style>\n",
       "<table border=\"1\" class=\"dataframe\">\n",
       "  <thead>\n",
       "    <tr style=\"text-align: right;\">\n",
       "      <th></th>\n",
       "      <th>code_pays</th>\n",
       "      <th>pays</th>\n",
       "      <th>code</th>\n",
       "      <th>num</th>\n",
       "      <th>nbre_habitant</th>\n",
       "      <th>taux_daccroiss_pop</th>\n",
       "      <th>dispo_alim_kcal_p_an_ani</th>\n",
       "      <th>dispo_prot_g_p_an_ani</th>\n",
       "      <th>proport_prot_ani</th>\n",
       "    </tr>\n",
       "  </thead>\n",
       "  <tbody>\n",
       "    <tr>\n",
       "      <th>0</th>\n",
       "      <td>2</td>\n",
       "      <td>Afghanistan</td>\n",
       "      <td>AFG</td>\n",
       "      <td>4</td>\n",
       "      <td>37171921</td>\n",
       "      <td>2.41</td>\n",
       "      <td>69715.0</td>\n",
       "      <td>3938.35</td>\n",
       "      <td>0.08</td>\n",
       "    </tr>\n",
       "    <tr>\n",
       "      <th>1</th>\n",
       "      <td>202</td>\n",
       "      <td>Afrique du Sud</td>\n",
       "      <td>ZAF</td>\n",
       "      <td>710</td>\n",
       "      <td>57792518</td>\n",
       "      <td>1.37</td>\n",
       "      <td>174835.0</td>\n",
       "      <td>13150.95</td>\n",
       "      <td>0.28</td>\n",
       "    </tr>\n",
       "    <tr>\n",
       "      <th>2</th>\n",
       "      <td>3</td>\n",
       "      <td>Albanie</td>\n",
       "      <td>ALB</td>\n",
       "      <td>8</td>\n",
       "      <td>2882740</td>\n",
       "      <td>-0.05</td>\n",
       "      <td>366095.0</td>\n",
       "      <td>22538.75</td>\n",
       "      <td>0.48</td>\n",
       "    </tr>\n",
       "    <tr>\n",
       "      <th>3</th>\n",
       "      <td>4</td>\n",
       "      <td>Algérie</td>\n",
       "      <td>DZA</td>\n",
       "      <td>12</td>\n",
       "      <td>42228407</td>\n",
       "      <td>2.03</td>\n",
       "      <td>142350.0</td>\n",
       "      <td>9026.45</td>\n",
       "      <td>0.19</td>\n",
       "    </tr>\n",
       "    <tr>\n",
       "      <th>4</th>\n",
       "      <td>79</td>\n",
       "      <td>Allemagne</td>\n",
       "      <td>DEU</td>\n",
       "      <td>276</td>\n",
       "      <td>83124418</td>\n",
       "      <td>0.56</td>\n",
       "      <td>396390.0</td>\n",
       "      <td>23370.95</td>\n",
       "      <td>0.50</td>\n",
       "    </tr>\n",
       "  </tbody>\n",
       "</table>\n",
       "</div>"
      ],
      "text/plain": [
       "   code_pays            pays code  num  nbre_habitant  taux_daccroiss_pop  \\\n",
       "0          2     Afghanistan  AFG    4       37171921                2.41   \n",
       "1        202  Afrique du Sud  ZAF  710       57792518                1.37   \n",
       "2          3         Albanie  ALB    8        2882740               -0.05   \n",
       "3          4         Algérie  DZA   12       42228407                2.03   \n",
       "4         79       Allemagne  DEU  276       83124418                0.56   \n",
       "\n",
       "   dispo_alim_kcal_p_an_ani  dispo_prot_g_p_an_ani  proport_prot_ani  \n",
       "0                   69715.0                3938.35              0.08  \n",
       "1                  174835.0               13150.95              0.28  \n",
       "2                  366095.0               22538.75              0.48  \n",
       "3                  142350.0                9026.45              0.19  \n",
       "4                  396390.0               23370.95              0.50  "
      ]
     },
     "execution_count": 44,
     "metadata": {},
     "output_type": "execute_result"
    }
   ],
   "source": [
    "df.rename(columns={'habitant_2018':'nbre_habitant'}, inplace=True)\n",
    "df['num'] = df['num'].astype(int)\n",
    "df.head()"
   ]
  },
  {
   "cell_type": "code",
   "execution_count": 45,
   "metadata": {},
   "outputs": [],
   "source": [
    "pib = pd.DataFrame(pd.read_csv('FAOSTAT_data_7-16-2021.csv', sep=';'))"
   ]
  },
  {
   "cell_type": "code",
   "execution_count": 46,
   "metadata": {},
   "outputs": [],
   "source": [
    "pib = pib.drop(['Code Domaine', 'Domaine', 'Code Élément', 'Élément', 'Code Produit', 'Produit', 'Code année', 'Note', 'Symbole', 'Description du Symbole','Unité','Année'], axis = 1)"
   ]
  },
  {
   "cell_type": "code",
   "execution_count": 47,
   "metadata": {},
   "outputs": [],
   "source": [
    "pib = pib.rename(columns={'Code zone (FAO)':'code_pays', 'Zone':'pays1', 'Valeur':'pib_habitant'})"
   ]
  },
  {
   "cell_type": "code",
   "execution_count": 48,
   "metadata": {},
   "outputs": [],
   "source": [
    "df = pd.merge(df, pib, on = 'code_pays', how='left')"
   ]
  },
  {
   "cell_type": "code",
   "execution_count": 49,
   "metadata": {},
   "outputs": [],
   "source": [
    "del df['pays1']"
   ]
  },
  {
   "cell_type": "code",
   "execution_count": 50,
   "metadata": {},
   "outputs": [],
   "source": [
    "df.pib_habitant = np.round(df.pib_habitant, 2)"
   ]
  },
  {
   "cell_type": "code",
   "execution_count": 51,
   "metadata": {},
   "outputs": [
    {
     "data": {
      "text/html": [
       "<div>\n",
       "<style scoped>\n",
       "    .dataframe tbody tr th:only-of-type {\n",
       "        vertical-align: middle;\n",
       "    }\n",
       "\n",
       "    .dataframe tbody tr th {\n",
       "        vertical-align: top;\n",
       "    }\n",
       "\n",
       "    .dataframe thead th {\n",
       "        text-align: right;\n",
       "    }\n",
       "</style>\n",
       "<table border=\"1\" class=\"dataframe\">\n",
       "  <thead>\n",
       "    <tr style=\"text-align: right;\">\n",
       "      <th></th>\n",
       "      <th>code_pays</th>\n",
       "      <th>pays</th>\n",
       "      <th>code</th>\n",
       "      <th>num</th>\n",
       "      <th>nbre_habitant</th>\n",
       "      <th>taux_daccroiss_pop</th>\n",
       "      <th>dispo_alim_kcal_p_an_ani</th>\n",
       "      <th>dispo_prot_g_p_an_ani</th>\n",
       "      <th>proport_prot_ani</th>\n",
       "      <th>pib_habitant</th>\n",
       "    </tr>\n",
       "  </thead>\n",
       "  <tbody>\n",
       "    <tr>\n",
       "      <th>0</th>\n",
       "      <td>2</td>\n",
       "      <td>Afghanistan</td>\n",
       "      <td>AFG</td>\n",
       "      <td>4</td>\n",
       "      <td>37171921</td>\n",
       "      <td>2.41</td>\n",
       "      <td>69715.0</td>\n",
       "      <td>3938.35</td>\n",
       "      <td>0.08</td>\n",
       "      <td>483.89</td>\n",
       "    </tr>\n",
       "    <tr>\n",
       "      <th>1</th>\n",
       "      <td>202</td>\n",
       "      <td>Afrique du Sud</td>\n",
       "      <td>ZAF</td>\n",
       "      <td>710</td>\n",
       "      <td>57792518</td>\n",
       "      <td>1.37</td>\n",
       "      <td>174835.0</td>\n",
       "      <td>13150.95</td>\n",
       "      <td>0.28</td>\n",
       "      <td>6369.23</td>\n",
       "    </tr>\n",
       "    <tr>\n",
       "      <th>2</th>\n",
       "      <td>3</td>\n",
       "      <td>Albanie</td>\n",
       "      <td>ALB</td>\n",
       "      <td>8</td>\n",
       "      <td>2882740</td>\n",
       "      <td>-0.05</td>\n",
       "      <td>366095.0</td>\n",
       "      <td>22538.75</td>\n",
       "      <td>0.48</td>\n",
       "      <td>5254.38</td>\n",
       "    </tr>\n",
       "    <tr>\n",
       "      <th>3</th>\n",
       "      <td>4</td>\n",
       "      <td>Algérie</td>\n",
       "      <td>DZA</td>\n",
       "      <td>12</td>\n",
       "      <td>42228407</td>\n",
       "      <td>2.03</td>\n",
       "      <td>142350.0</td>\n",
       "      <td>9026.45</td>\n",
       "      <td>0.19</td>\n",
       "      <td>4153.96</td>\n",
       "    </tr>\n",
       "    <tr>\n",
       "      <th>4</th>\n",
       "      <td>79</td>\n",
       "      <td>Allemagne</td>\n",
       "      <td>DEU</td>\n",
       "      <td>276</td>\n",
       "      <td>83124418</td>\n",
       "      <td>0.56</td>\n",
       "      <td>396390.0</td>\n",
       "      <td>23370.95</td>\n",
       "      <td>0.50</td>\n",
       "      <td>47684.76</td>\n",
       "    </tr>\n",
       "  </tbody>\n",
       "</table>\n",
       "</div>"
      ],
      "text/plain": [
       "   code_pays            pays code  num  nbre_habitant  taux_daccroiss_pop  \\\n",
       "0          2     Afghanistan  AFG    4       37171921                2.41   \n",
       "1        202  Afrique du Sud  ZAF  710       57792518                1.37   \n",
       "2          3         Albanie  ALB    8        2882740               -0.05   \n",
       "3          4         Algérie  DZA   12       42228407                2.03   \n",
       "4         79       Allemagne  DEU  276       83124418                0.56   \n",
       "\n",
       "   dispo_alim_kcal_p_an_ani  dispo_prot_g_p_an_ani  proport_prot_ani  \\\n",
       "0                   69715.0                3938.35              0.08   \n",
       "1                  174835.0               13150.95              0.28   \n",
       "2                  366095.0               22538.75              0.48   \n",
       "3                  142350.0                9026.45              0.19   \n",
       "4                  396390.0               23370.95              0.50   \n",
       "\n",
       "   pib_habitant  \n",
       "0        483.89  \n",
       "1       6369.23  \n",
       "2       5254.38  \n",
       "3       4153.96  \n",
       "4      47684.76  "
      ]
     },
     "execution_count": 51,
     "metadata": {},
     "output_type": "execute_result"
    }
   ],
   "source": [
    "df.head()"
   ]
  },
  {
   "cell_type": "code",
   "execution_count": 52,
   "metadata": {},
   "outputs": [],
   "source": [
    "df.to_csv('dispo_alim_propre.csv', index=False)"
   ]
  },
  {
   "cell_type": "code",
   "execution_count": 53,
   "metadata": {},
   "outputs": [
    {
     "data": {
      "text/plain": [
       "(156, 10)"
      ]
     },
     "execution_count": 53,
     "metadata": {},
     "output_type": "execute_result"
    }
   ],
   "source": [
    "df.shape"
   ]
  },
  {
   "cell_type": "code",
   "execution_count": null,
   "metadata": {},
   "outputs": [],
   "source": []
  }
 ],
 "metadata": {
  "kernelspec": {
   "display_name": "Python 3",
   "language": "python",
   "name": "python3"
  },
  "language_info": {
   "codemirror_mode": {
    "name": "ipython",
    "version": 3
   },
   "file_extension": ".py",
   "mimetype": "text/x-python",
   "name": "python",
   "nbconvert_exporter": "python",
   "pygments_lexer": "ipython3",
   "version": "3.8.5"
  }
 },
 "nbformat": 4,
 "nbformat_minor": 4
}
